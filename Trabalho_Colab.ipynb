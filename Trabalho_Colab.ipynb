{
  "nbformat": 4,
  "nbformat_minor": 0,
  "metadata": {
    "colab": {
      "provenance": [],
      "authorship_tag": "ABX9TyPU/ltZWAIjkXs0v2Vsbfcj",
      "include_colab_link": true
    },
    "kernelspec": {
      "name": "python3",
      "display_name": "Python 3"
    },
    "language_info": {
      "name": "python"
    }
  },
  "cells": [
    {
      "cell_type": "markdown",
      "metadata": {
        "id": "view-in-github",
        "colab_type": "text"
      },
      "source": [
        "<a href=\"https://colab.research.google.com/github/leandrofogaca120/InventarioDeAtivos/blob/master/Trabalho_Colab.ipynb\" target=\"_parent\"><img src=\"https://colab.research.google.com/assets/colab-badge.svg\" alt=\"Open In Colab\"/></a>"
      ]
    },
    {
      "cell_type": "code",
      "execution_count": 1,
      "metadata": {
        "colab": {
          "base_uri": "https://localhost:8080/"
        },
        "id": "OnbX0GSXlFyS",
        "outputId": "aaa4bc05-e0f1-4349-9b18-be5c32d127e2"
      },
      "outputs": [
        {
          "output_type": "stream",
          "name": "stdout",
          "text": [
            "Notas dos Estudantes: [7.5, 8.0, 6.5, 9.0, 7.0]\n",
            "Média dos Estudantes: 7.6\n",
            "Situação dos Estudantes: Aprovado\n"
          ]
        }
      ],
      "source": [
        "#Lista de notas dos Estudantes\n",
        "notas = [7.5, 8.0, 6.5, 9.0, 7.0]\n",
        "\n",
        "#Função regular para calcular a média\n",
        "def calcular_media(notas):\n",
        "    total = sum(notas)\n",
        "    media = total / len(notas)\n",
        "    return media\n",
        "\n",
        "#Função lambda para arredondar a média para duas casas decimais\n",
        "arredondar_media = lambda media: round(media, 2)\n",
        "\n",
        "#Chamando a função regular para calcular a média\n",
        "media = calcular_media(notas)\n",
        "media_arredondada = arredondar_media(media)\n",
        "\n",
        "#Calcular a Média\n",
        "media = calcular_media(notas)\n",
        "media_arredondada = arredondar_media(media)\n",
        "\n",
        "# Verificar se os estudantes foram aprovados\n",
        "situacao = \"Aprovado\" if media_arredondada >= 7 else \"Reprovado\"\n",
        "\n",
        "# Resultados\n",
        "print(\"Notas dos Estudantes:\", notas)\n",
        "print(\"Média dos Estudantes:\", media_arredondada)\n",
        "print(\"Situação dos Estudantes:\", situacao)"
      ]
    }
  ]
}